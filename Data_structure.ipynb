{
  "nbformat": 4,
  "nbformat_minor": 0,
  "metadata": {
    "colab": {
      "provenance": []
    },
    "kernelspec": {
      "name": "python3",
      "display_name": "Python 3"
    },
    "language_info": {
      "name": "python"
    }
  },
  "cells": [
    {
      "cell_type": "code",
      "execution_count": null,
      "metadata": {
        "id": "-J_A2fYsfUXe"
      },
      "outputs": [],
      "source": [
        "#THEORY QUESTIONS"
      ]
    },
    {
      "cell_type": "markdown",
      "source": [
        "Q1    What are data structures, and why are they important?\n",
        "\n",
        "      - Data structures are specilized formats for organising storing and accessing collections of data.they provide efficient way to manage information based on its characterstics.they are like containers that hold data,different containers are better suited for differnt type of items.\n",
        "\n",
        "      - USE: 1) For data manipulation.\n",
        "             2) optimize serching and sorting operations.\n",
        "             3) Conserve memory usage.\n",
        "\n",
        "\n",
        "Q2    Explain the difference between mutable and immutable datatype with example.\n",
        "\n",
        "      - MUTABLE DATATYPE: Data type that allows the modification of data after it has been created.\n",
        "      EX: List\n",
        "          dictionaries\n",
        "          sets\n",
        "           \n",
        "      - IMMUTABLE DATATYPE: Data type that do not allows the modification of data after creation.\n",
        "      EX: Strings\n",
        "          tuple\n",
        "\n",
        "Q3    What are the main differnce between lists and tuples in python.\n",
        "\n",
        "     - Lists and tuples both stores collection of data but lists are mutable and tuples are immutable.\n",
        "\n",
        "     - list stores elements in square brackets[] but tuples stores elements in parenthes().\n",
        "\n",
        "     - lists are used when data might be changed frequently but tuples are used for data that doesn't change over time.\n",
        "\n",
        "Q4   Describe how dictonaries stores data.\n",
        "\n",
        "    - Dictonaries stores data in the form of \"key\":\"value\" pairs. they are unordered and stores unique data only. no duplicates are allowed in dictonaries.\n",
        "    \n",
        "Q5   Why might you use a set instead of a list in python.\n",
        "\n",
        "    - SITUATION 1: If you have to maintain a collection of unique data.\n",
        "\n",
        "    - SITUATION 2: If you need to perform operations like finding commom elements between two collections. use(union,intersection,differnce)\n",
        "\n",
        "    - SITUATION 3: When you have a large collection of unique data and you want to store that in memory.\n",
        "\n",
        "Q6   What is a string in python,and how is it differnet from a list.\n",
        "\n",
        "    - DEFINITION: Strings are the datastructure which can store characters arranged in an unchangeable order.consider writing a sentence ,a paragraph or a piece of material.\n",
        "\n",
        "    - DIFFERNCE: 1) Strings can only stores characters wheareas lists can  \n",
        "                    stores data with differnt datatype.\n",
        "                 2) Strings are immutable but lists are mutable.\n",
        "\n",
        "Q7   How do tuples ensure data integrity in python.\n",
        "\n",
        "    - Tuples ensures data integrity through differnt ways:\n",
        "      1) IMMUTABILITY: Immutability ensures that the data remains consistent and cannot be altered accidently.\n",
        "\n",
        "      2) HASHABILITY: Hashability allows tuples to be used as keys in dictionaries or elements in sets, providing a reliable way to reference immutable data.\n",
        "\n",
        "Q8   What is a hash table, and how does it relate to dic. in python?\n",
        "\n",
        "     - DEFINITION: A hash table is a data structure that stores dat in an associative manner, where each data value is associated with a unique key.\n",
        "\n",
        "     - RELATION: In python ,a dictioary is implemented as a hash table under the hood.hash table is related to dic. through structure,operations and handling collisions.\n",
        "\n",
        "Q9   Can lists contain differnent data types in python.\n",
        "\n",
        "     - Yes, in python lists can contains different data type like string float and integer type of data.\n",
        "\n",
        "Q10  Explain why strings are immutable in python.\n",
        "\n",
        "    - Strings are immutable in python this helps make programs faster and safer by preventing accidental changes to the data.if you need to modify a string.python creates a new string with the changes instead of changing the original one.\n",
        "\n",
        "Q11  What advantages do dictionaries offer over lists for certain tasks.\n",
        "\n",
        "    - Dic. offers several advantages over lists for certain tasks:\n",
        "      1) Faster lookups: you can quickly find a value using a key in a dic.,while in lists you have to serch through all the items.\n",
        "\n",
        "      2) Key-Value pairs: Dic. stores data in the format of key value pairs which makes easy to access any value whereas in lists it stores value in order.\n",
        "\n",
        "      3) No duplicates: In a dic. each key is unique,so don't need to worry about the duplicates,while lists can have duplicate value also.\n",
        "\n",
        "Q12   Describe a scenario where using a tuple would be preferable over a list?\n",
        "\n",
        "     - A tuple would be better over a list when you have to store data that should not be changed.like date of birth,name,employee id etc these things cannot be change so thse things must be store in a tuple over a list.\n",
        "\n",
        "Q13   How do sets handle duplicate values in python.\n",
        "\n",
        "     - Sets automatically removes the duplicate value.if you try to add duplicates to a set so it will store only one copy of it.\n",
        "\n",
        "Q14  How does the \"in\" keyword work diffrently for lists and dictonaries.\n",
        "\n",
        "    - FOR LIST: It checks if a value is present or not in a list.\n",
        "    - FOR DIC.: It checks if a key is present in a dic. or not but not a value.\n",
        "\n",
        "Q15  Can you modify the element of a tuple?explain why or why not?\n",
        "\n",
        "    - NO,you cannot modify a tuple after creation because tuples are immutable its value cannot b changed,added,or removed.this is to protect the data from being accidently changed.\n",
        "\n",
        "Q16  What is a nested dictionary,and give an example of its use case?\n",
        "\n",
        "    - A nested dic. is a dic. that contains other dic. as a value.this allows you to organize data in multiple layers.\n",
        "    EX: {\"NAME\":\"SAKSHI\",\"CLASS\":\"10TH\",\"MARKS\":{78,89,87}}\n",
        "\n",
        "    -Use case: if you want to store a key value in more than one line than for storing the value of that key you can store that in a other dic. inside the main dic. as a nested dic.\n",
        "\n",
        "Q17  Describe time complexiy of accessing elements in a dic.?\n",
        "\n",
        "    - Accessing elements in a dictionary is very fast and has a time complexity of 0(1).which means it takes same amount of time no matter how many items are in the dic.\n",
        "\n",
        "Q18  In what situation lists are preferred over dic.?\n",
        "\n",
        "    - Situations like:\n",
        "      1) Order matters: if you need to keep items in a specific order use lists.\n",
        "\n",
        "      2) Index-based access: if you want to access an element through indexing go for a list.\n",
        "\n",
        "      3) Duplicate value: if you want to store collection of similar items go for a list.\n",
        "\n",
        "Q19  Why are dic. considered unordered,and how does that affects data retrieval?\n",
        "\n",
        "    - Dic. items do not have a specific order.this means the items might not appear in the same order every time you access them.\n",
        "\n",
        "    - But it doesnot affect the retrieval you can still quickly find values by their keys regardless of their order.\n",
        "\n",
        "Q20  Explain the diifernce between a list and a dic. in terms of data retrieval?\n",
        "\n",
        "    - The main differnce in retrieval is how you retrieve the data from a list and from a dic.\n",
        "    1)LISTS: You can access elements by there index.\n",
        "    2)DIC. : You access elements by their key,not through the position.\n",
        "                 \n",
        "\n",
        "        \n"
      ],
      "metadata": {
        "id": "RSq0oEwCfWOu"
      }
    },
    {
      "cell_type": "markdown",
      "source": [
        "#PRACTICLE QUESTIONS"
      ],
      "metadata": {
        "id": "R0jzV9Ad-7Lj"
      }
    },
    {
      "cell_type": "code",
      "source": [
        "# Q1 Write a code to create a string with your name and print it.\n",
        "\n",
        "name = \"sakshi\"\n",
        "print(\"NAME:\",name)"
      ],
      "metadata": {
        "colab": {
          "base_uri": "https://localhost:8080/"
        },
        "id": "lystx6_KkGoY",
        "outputId": "febe63a2-b7b4-4918-89fa-9d1ce500b42d"
      },
      "execution_count": 1,
      "outputs": [
        {
          "output_type": "stream",
          "name": "stdout",
          "text": [
            "NAME: sakshi\n"
          ]
        }
      ]
    },
    {
      "cell_type": "code",
      "source": [
        "# Q2 Write a code to find the length of a srting \"Hello World\".\n",
        "\n",
        "x = \"Hello World\"\n",
        "print(len(x))"
      ],
      "metadata": {
        "colab": {
          "base_uri": "https://localhost:8080/"
        },
        "id": "R6h6npozkHju",
        "outputId": "1dc612ae-dc01-4cc3-8aaf-bfc76f0eae8b"
      },
      "execution_count": 2,
      "outputs": [
        {
          "output_type": "stream",
          "name": "stdout",
          "text": [
            "11\n"
          ]
        }
      ]
    },
    {
      "cell_type": "code",
      "source": [
        "# Q3 Write a code to slice 1st 3 characters from the string \"python programming\".\n",
        "\n",
        "x = \"python programming\"\n",
        "print(x[0:3])\n",
        "\n"
      ],
      "metadata": {
        "colab": {
          "base_uri": "https://localhost:8080/"
        },
        "id": "gRWmD-GGkHpo",
        "outputId": "b38e84c5-4b60-43f9-b838-05d770448d93"
      },
      "execution_count": 3,
      "outputs": [
        {
          "output_type": "stream",
          "name": "stdout",
          "text": [
            "pyt\n"
          ]
        }
      ]
    },
    {
      "cell_type": "code",
      "source": [
        "# Q4 Write a code to convert the string \"hello\" to uppercase.\n",
        "\n",
        "x = \"hello\"\n",
        "print(x.upper())\n",
        "\n"
      ],
      "metadata": {
        "colab": {
          "base_uri": "https://localhost:8080/"
        },
        "id": "87C0EXwxkHus",
        "outputId": "ff38fa01-e974-4921-a05d-77c960806140"
      },
      "execution_count": 5,
      "outputs": [
        {
          "output_type": "stream",
          "name": "stdout",
          "text": [
            "HELLO\n"
          ]
        }
      ]
    },
    {
      "cell_type": "code",
      "source": [
        "# Q5 Write a code to replace the word  \"apple\" with \"orange\" in string \"I like apple\".\n",
        "\n",
        "x = \"I like apple\"\n",
        "print(x.replace(\"apple\",\"orange\"))"
      ],
      "metadata": {
        "colab": {
          "base_uri": "https://localhost:8080/"
        },
        "id": "YWBc8UxhkIUQ",
        "outputId": "1eb9e7ae-e854-4323-fccd-c8c5b2a4b578"
      },
      "execution_count": 6,
      "outputs": [
        {
          "output_type": "stream",
          "name": "stdout",
          "text": [
            "I like orange\n"
          ]
        }
      ]
    },
    {
      "cell_type": "code",
      "source": [
        "# Q6 Write a code to create a list with no. 1 to 5 and print it.\n",
        "\n",
        "y = [1,2,3,4,5]\n",
        "print(y)\n",
        "print(type(y))"
      ],
      "metadata": {
        "colab": {
          "base_uri": "https://localhost:8080/"
        },
        "id": "ULQhhznHkCuK",
        "outputId": "886439a0-30c3-42f7-93c2-55a44f63da7a"
      },
      "execution_count": 14,
      "outputs": [
        {
          "output_type": "stream",
          "name": "stdout",
          "text": [
            "[1, 2, 3, 4, 5]\n",
            "<class 'list'>\n"
          ]
        }
      ]
    },
    {
      "cell_type": "code",
      "source": [
        "# Q7 Write a code to append 10 in the list [1,2,3,4]\n",
        "\n",
        "x = [1,2,3,4]\n",
        "x.append(10)\n",
        "print(x)"
      ],
      "metadata": {
        "colab": {
          "base_uri": "https://localhost:8080/"
        },
        "id": "OFidGsxCpwFH",
        "outputId": "8286dbd7-c5ec-400a-cc77-4d36a6d77f6b"
      },
      "execution_count": 8,
      "outputs": [
        {
          "output_type": "stream",
          "name": "stdout",
          "text": [
            "[1, 2, 3, 4, 10]\n"
          ]
        }
      ]
    },
    {
      "cell_type": "code",
      "source": [
        "# Q8 Write a code to remove 3 from the list[1,2,3,4,5].\n",
        "\n",
        "y = [1,2,3,4,5]\n",
        "y.remove(3)\n",
        "print(y)"
      ],
      "metadata": {
        "colab": {
          "base_uri": "https://localhost:8080/"
        },
        "id": "l-5jXw-JpwJQ",
        "outputId": "f732e3fa-12b0-47f8-c980-cbbb4bc9bd0c"
      },
      "execution_count": 9,
      "outputs": [
        {
          "output_type": "stream",
          "name": "stdout",
          "text": [
            "[1, 2, 4, 5]\n"
          ]
        }
      ]
    },
    {
      "cell_type": "code",
      "source": [
        "# Q9 Write a code to access the second element in the list [\"a,\"b\",\"c\",\"d\"].\n",
        "\n",
        "x = [\"a\",\"b\",\"c\",\"b\"]\n",
        "print(x[1])"
      ],
      "metadata": {
        "colab": {
          "base_uri": "https://localhost:8080/"
        },
        "id": "7ZoqB0qLpwM6",
        "outputId": "53e063fa-1c88-4002-bd49-0e1427a3fb70"
      },
      "execution_count": 10,
      "outputs": [
        {
          "output_type": "stream",
          "name": "stdout",
          "text": [
            "b\n"
          ]
        }
      ]
    },
    {
      "cell_type": "code",
      "source": [
        "# Q10 Write a code to reverse the list [10,20,30,40,50].\n",
        "\n",
        "s = [10,20,30,40,50]\n",
        "print(s[::-1])"
      ],
      "metadata": {
        "colab": {
          "base_uri": "https://localhost:8080/"
        },
        "id": "YhnxwHmOpwQq",
        "outputId": "23dc3b36-2c80-47ca-bf77-8a8805318b87"
      },
      "execution_count": 11,
      "outputs": [
        {
          "output_type": "stream",
          "name": "stdout",
          "text": [
            "[50, 40, 30, 20, 10]\n"
          ]
        }
      ]
    },
    {
      "cell_type": "code",
      "source": [
        "# Q11 Write a code to create a tuple with the elements 10,20,30 and print it.\n",
        "\n",
        "y = (10,20,30)\n",
        "print(y)\n",
        "print(type(y))"
      ],
      "metadata": {
        "colab": {
          "base_uri": "https://localhost:8080/"
        },
        "id": "2UKhzy57pwUN",
        "outputId": "c9e48c5f-b3d8-4e70-aa10-a35764066477"
      },
      "execution_count": 13,
      "outputs": [
        {
          "output_type": "stream",
          "name": "stdout",
          "text": [
            "(10, 20, 30)\n",
            "<class 'tuple'>\n"
          ]
        }
      ]
    },
    {
      "cell_type": "code",
      "source": [
        "# Q12 Write a code to access the first element of tuple (\"apple\",\"banana\",\"cherry\").\n",
        "\n",
        "x = (\"apple\",\"banana\",\"cherry\")\n",
        "print(x[0])"
      ],
      "metadata": {
        "colab": {
          "base_uri": "https://localhost:8080/"
        },
        "id": "u-jXmONipwX1",
        "outputId": "fc44ab1a-9068-46b5-b23a-8518d28b9974"
      },
      "execution_count": 15,
      "outputs": [
        {
          "output_type": "stream",
          "name": "stdout",
          "text": [
            "apple\n"
          ]
        }
      ]
    },
    {
      "cell_type": "code",
      "source": [
        "# Q13 Write a code to count how many times the no. 2 appears in the tuple(1,2,3,2,4,2).\n",
        "\n",
        "x = (1,2,3,2,4,2)\n",
        "print(x.count(2))"
      ],
      "metadata": {
        "colab": {
          "base_uri": "https://localhost:8080/"
        },
        "id": "QN4onB3npwbZ",
        "outputId": "230e0ebb-ff8d-4618-814b-23f2759aad47"
      },
      "execution_count": 16,
      "outputs": [
        {
          "output_type": "stream",
          "name": "stdout",
          "text": [
            "3\n"
          ]
        }
      ]
    },
    {
      "cell_type": "markdown",
      "source": [],
      "metadata": {
        "id": "ixAkYVlEwrnE"
      }
    },
    {
      "cell_type": "code",
      "source": [
        "# Q14 Write a code to find the index of the element \"cat\" in the tuple (\"dog\",\"cat\",\"rabbit\").\n",
        "\n",
        "x = (\"dog\",\"cat\",\"rabbit\")\n",
        "print(x.index(\"cat\"))"
      ],
      "metadata": {
        "colab": {
          "base_uri": "https://localhost:8080/"
        },
        "id": "VmqBEGI_pwfC",
        "outputId": "4f98eee1-21a0-42e7-d19b-ddf7ed47a69b"
      },
      "execution_count": 17,
      "outputs": [
        {
          "output_type": "stream",
          "name": "stdout",
          "text": [
            "1\n"
          ]
        }
      ]
    },
    {
      "cell_type": "code",
      "source": [
        "# Q15 Write a code to check if the if the element \"banana\" is in the tupule(\"apple\",\"orange\",\"banana\").\n",
        "\n",
        "x =(\"apple\",\"orange\",\"banana\")\n",
        "if \"banana\" in x:\n",
        "    print(\"yes banana is present\")\n",
        "else:\n",
        "    print(\"no banana is not present\")"
      ],
      "metadata": {
        "colab": {
          "base_uri": "https://localhost:8080/"
        },
        "id": "e_x3SdJzpwi3",
        "outputId": "f3944984-8906-4ba0-ff13-6a3474abb25f"
      },
      "execution_count": 18,
      "outputs": [
        {
          "output_type": "stream",
          "name": "stdout",
          "text": [
            "yes banana is present\n"
          ]
        }
      ]
    },
    {
      "cell_type": "code",
      "source": [
        "# Q16 Write a code to create a set with the elements 1,2,3,4,5 and print it.\n",
        "\n",
        "x = {1,2,3,4,5}\n",
        "print(x)\n",
        "print(type(x))"
      ],
      "metadata": {
        "colab": {
          "base_uri": "https://localhost:8080/"
        },
        "id": "u6lNQ2f9pwoa",
        "outputId": "9a77990c-d8bf-4b42-dd3c-cf6b93b9ba4f"
      },
      "execution_count": 19,
      "outputs": [
        {
          "output_type": "stream",
          "name": "stdout",
          "text": [
            "{1, 2, 3, 4, 5}\n",
            "<class 'set'>\n"
          ]
        }
      ]
    },
    {
      "cell_type": "code",
      "source": [
        "# Q17 Write a code to create to add the element 6 to the set {1,2,3,4}.\n",
        "\n",
        "s = {1,2,3,4}\n",
        "s.add(6)\n",
        "print(s)"
      ],
      "metadata": {
        "colab": {
          "base_uri": "https://localhost:8080/"
        },
        "id": "IG9lRef91wO7",
        "outputId": "b6850f5b-e5aa-46d8-d552-ad5b78b3c4ff"
      },
      "execution_count": 20,
      "outputs": [
        {
          "output_type": "stream",
          "name": "stdout",
          "text": [
            "{1, 2, 3, 4, 6}\n"
          ]
        }
      ]
    }
  ]
}